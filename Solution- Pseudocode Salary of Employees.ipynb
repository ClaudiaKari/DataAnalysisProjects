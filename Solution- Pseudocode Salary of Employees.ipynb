{
 "cells": [
  {
   "cell_type": "code",
   "execution_count": 3,
   "metadata": {},
   "outputs": [],
   "source": [
    "# Import required package\n",
    "import pandas as pd"
   ]
  },
  {
   "cell_type": "code",
   "execution_count": 2,
   "metadata": {},
   "outputs": [
    {
     "data": {
      "text/plain": [
       "'\\nCreate a dictionary to save all information about employees and create a new column\\nto save the calculate value for weekly salary\\n'"
      ]
     },
     "execution_count": 2,
     "metadata": {},
     "output_type": "execute_result"
    }
   ],
   "source": [
    "'''\n",
    "Create a dictionary to save all information about employees and create a new column\n",
    "to save the calculate value for weekly salary\n",
    "''' "
   ]
  },
  {
   "cell_type": "code",
   "execution_count": 3,
   "metadata": {},
   "outputs": [
    {
     "data": {
      "text/plain": [
       "dict_values([['001', '002', '003', '004', '005', '006', '007', '008', '009', '010'], ['Mary', 'John', 'Bob', 'Mel', 'Jen', 'Sue', 'Ken', 'Dave', 'Beth', 'Ray'], [15, 22, 35, 43, 17, 29, 40, 20, 37, 16.5], [40, 25, 4, 62, 33, 45, 36, 17, 37, 80], [0, 0, 0, 0, 0, 0, 0, 0, 0, 0]])"
      ]
     },
     "execution_count": 3,
     "metadata": {},
     "output_type": "execute_result"
    }
   ],
   "source": [
    "\n",
    "#  1.-idNumber, name, payRate, hoursWorked, weeklySalary \n",
    "myEmpDic = {\n",
    "            'idNumber': ['001', '002','003','004','005','006','007','008','009','010'],\n",
    "            'name': ['Mary', 'John', 'Bob', 'Mel', 'Jen','Sue', 'Ken', 'Dave', 'Beth', 'Ray'],\n",
    "            'payRate': [15, 22, 35, 43, 17, 29, 40, 20, 37, 16.5],\n",
    "            'hoursWorked':[40, 25, 4, 62, 33, 45, 36, 17, 37, 80],\n",
    "            'weeklySalary' : [0, 0, 0, 0, 0, 0, 0, 0, 0, 0]\n",
    "           }\n",
    "\n",
    "# take a look over the key pair of the new dictionary\n",
    "myEmpDic.values()\n"
   ]
  },
  {
   "cell_type": "code",
   "execution_count": 8,
   "metadata": {},
   "outputs": [
    {
     "data": {
      "text/plain": [
       "[40, 25, 4, 62, 33, 45, 36, 17, 37, 80]"
      ]
     },
     "execution_count": 8,
     "metadata": {},
     "output_type": "execute_result"
    }
   ],
   "source": [
    " myEmpDic['hoursWorked']"
   ]
  },
  {
   "cell_type": "code",
   "execution_count": 5,
   "metadata": {},
   "outputs": [],
   "source": [
    "# 2.- Create a dataframe from the dictionary and assign that value to a new variable\n",
    "data= pd.DataFrame.from_dict(myEmpDic)"
   ]
  },
  {
   "cell_type": "code",
   "execution_count": 9,
   "metadata": {},
   "outputs": [],
   "source": [
    "dfEmp=pd.DataFrame(myEmpDic)"
   ]
  },
  {
   "cell_type": "code",
   "execution_count": 10,
   "metadata": {},
   "outputs": [
    {
     "data": {
      "text/html": [
       "<div>\n",
       "<style scoped>\n",
       "    .dataframe tbody tr th:only-of-type {\n",
       "        vertical-align: middle;\n",
       "    }\n",
       "\n",
       "    .dataframe tbody tr th {\n",
       "        vertical-align: top;\n",
       "    }\n",
       "\n",
       "    .dataframe thead th {\n",
       "        text-align: right;\n",
       "    }\n",
       "</style>\n",
       "<table border=\"1\" class=\"dataframe\">\n",
       "  <thead>\n",
       "    <tr style=\"text-align: right;\">\n",
       "      <th></th>\n",
       "      <th>idNumber</th>\n",
       "      <th>name</th>\n",
       "      <th>payRate</th>\n",
       "      <th>hoursWorked</th>\n",
       "      <th>weeklySalary</th>\n",
       "    </tr>\n",
       "  </thead>\n",
       "  <tbody>\n",
       "    <tr>\n",
       "      <th>0</th>\n",
       "      <td>001</td>\n",
       "      <td>Mary</td>\n",
       "      <td>15.0</td>\n",
       "      <td>40</td>\n",
       "      <td>0</td>\n",
       "    </tr>\n",
       "    <tr>\n",
       "      <th>1</th>\n",
       "      <td>002</td>\n",
       "      <td>John</td>\n",
       "      <td>22.0</td>\n",
       "      <td>25</td>\n",
       "      <td>0</td>\n",
       "    </tr>\n",
       "    <tr>\n",
       "      <th>2</th>\n",
       "      <td>003</td>\n",
       "      <td>Bob</td>\n",
       "      <td>35.0</td>\n",
       "      <td>4</td>\n",
       "      <td>0</td>\n",
       "    </tr>\n",
       "    <tr>\n",
       "      <th>3</th>\n",
       "      <td>004</td>\n",
       "      <td>Mel</td>\n",
       "      <td>43.0</td>\n",
       "      <td>62</td>\n",
       "      <td>0</td>\n",
       "    </tr>\n",
       "    <tr>\n",
       "      <th>4</th>\n",
       "      <td>005</td>\n",
       "      <td>Jen</td>\n",
       "      <td>17.0</td>\n",
       "      <td>33</td>\n",
       "      <td>0</td>\n",
       "    </tr>\n",
       "  </tbody>\n",
       "</table>\n",
       "</div>"
      ],
      "text/plain": [
       "  idNumber  name  payRate  hoursWorked  weeklySalary\n",
       "0      001  Mary     15.0           40             0\n",
       "1      002  John     22.0           25             0\n",
       "2      003   Bob     35.0            4             0\n",
       "3      004   Mel     43.0           62             0\n",
       "4      005   Jen     17.0           33             0"
      ]
     },
     "execution_count": 10,
     "metadata": {},
     "output_type": "execute_result"
    }
   ],
   "source": [
    "dfEmp.head()"
   ]
  },
  {
   "cell_type": "code",
   "execution_count": 6,
   "metadata": {},
   "outputs": [
    {
     "data": {
      "text/html": [
       "<div>\n",
       "<style scoped>\n",
       "    .dataframe tbody tr th:only-of-type {\n",
       "        vertical-align: middle;\n",
       "    }\n",
       "\n",
       "    .dataframe tbody tr th {\n",
       "        vertical-align: top;\n",
       "    }\n",
       "\n",
       "    .dataframe thead th {\n",
       "        text-align: right;\n",
       "    }\n",
       "</style>\n",
       "<table border=\"1\" class=\"dataframe\">\n",
       "  <thead>\n",
       "    <tr style=\"text-align: right;\">\n",
       "      <th></th>\n",
       "      <th>idNumber</th>\n",
       "      <th>name</th>\n",
       "      <th>payRate</th>\n",
       "      <th>hoursWorked</th>\n",
       "      <th>weeklySalary</th>\n",
       "    </tr>\n",
       "  </thead>\n",
       "  <tbody>\n",
       "    <tr>\n",
       "      <th>0</th>\n",
       "      <td>001</td>\n",
       "      <td>Mary</td>\n",
       "      <td>15.0</td>\n",
       "      <td>40</td>\n",
       "      <td>0</td>\n",
       "    </tr>\n",
       "    <tr>\n",
       "      <th>1</th>\n",
       "      <td>002</td>\n",
       "      <td>John</td>\n",
       "      <td>22.0</td>\n",
       "      <td>25</td>\n",
       "      <td>0</td>\n",
       "    </tr>\n",
       "    <tr>\n",
       "      <th>2</th>\n",
       "      <td>003</td>\n",
       "      <td>Bob</td>\n",
       "      <td>35.0</td>\n",
       "      <td>4</td>\n",
       "      <td>0</td>\n",
       "    </tr>\n",
       "    <tr>\n",
       "      <th>3</th>\n",
       "      <td>004</td>\n",
       "      <td>Mel</td>\n",
       "      <td>43.0</td>\n",
       "      <td>62</td>\n",
       "      <td>0</td>\n",
       "    </tr>\n",
       "    <tr>\n",
       "      <th>4</th>\n",
       "      <td>005</td>\n",
       "      <td>Jen</td>\n",
       "      <td>17.0</td>\n",
       "      <td>33</td>\n",
       "      <td>0</td>\n",
       "    </tr>\n",
       "  </tbody>\n",
       "</table>\n",
       "</div>"
      ],
      "text/plain": [
       "  idNumber  name  payRate  hoursWorked  weeklySalary\n",
       "0      001  Mary     15.0           40             0\n",
       "1      002  John     22.0           25             0\n",
       "2      003   Bob     35.0            4             0\n",
       "3      004   Mel     43.0           62             0\n",
       "4      005   Jen     17.0           33             0"
      ]
     },
     "execution_count": 6,
     "metadata": {},
     "output_type": "execute_result"
    }
   ],
   "source": [
    "data.head()"
   ]
  },
  {
   "cell_type": "code",
   "execution_count": 7,
   "metadata": {},
   "outputs": [
    {
     "name": "stdout",
     "output_type": "stream",
     "text": [
      "  idNumber  name  payRate  hoursWorked  weeklySalary\n",
      "0      001  Mary     15.0           40           600\n",
      "1      002  John     22.0           25           550\n",
      "2      003   Bob     35.0            4           140\n",
      "3      004   Mel     43.0           62          1753\n",
      "4      005   Jen     17.0           33           561\n",
      "5      006   Sue     29.0           45          1167\n",
      "6      007   Ken     40.0           36          1440\n",
      "7      008  Dave     20.0           17           340\n",
      "8      009  Beth     37.0           37          1369\n",
      "9      010   Ray     16.5           80           720\n"
     ]
    },
    {
     "name": "stderr",
     "output_type": "stream",
     "text": [
      "C:\\Users\\claudia\\Anaconda3\\lib\\site-packages\\ipykernel_launcher.py:4: FutureWarning: get_value is deprecated and will be removed in a future release. Please use .at[] or .iat[] accessors instead\n",
      "  after removing the cwd from sys.path.\n",
      "C:\\Users\\claudia\\Anaconda3\\lib\\site-packages\\ipykernel_launcher.py:5: FutureWarning: get_value is deprecated and will be removed in a future release. Please use .at[] or .iat[] accessors instead\n",
      "  \"\"\"\n",
      "C:\\Users\\claudia\\Anaconda3\\lib\\site-packages\\ipykernel_launcher.py:11: FutureWarning: set_value is deprecated and will be removed in a future release. Please use .at[] or .iat[] accessors instead\n",
      "  # This is added back by InteractiveShellApp.init_path()\n",
      "C:\\Users\\claudia\\Anaconda3\\lib\\site-packages\\ipykernel_launcher.py:17: FutureWarning: set_value is deprecated and will be removed in a future release. Please use .at[] or .iat[] accessors instead\n"
     ]
    }
   ],
   "source": [
    "# iterate the rows of the dataframe\n",
    "for i in data.index:\n",
    "    \n",
    "    valHours= data.get_value(i, 'hoursWorked')\n",
    "    valPay= data.get_value(i, 'payRate')\n",
    "    \n",
    "    # If the \n",
    "    if valHours <= 40:\n",
    "        valWeekly= valHours * valPay\n",
    "        #Assign the new value\n",
    "        data.set_value(i,'weeklySalary',valWeekly )\n",
    "        \n",
    "    elif valHours > 40:\n",
    "        valeExceed= valHours - 40\n",
    "        valWeekly= (40 * valPay ) + valeExceed *1.5\n",
    "        #Assign the new value\n",
    "        data.set_value(i,'weeklySalary',valWeekly )    \n",
    "\n",
    "# Print the dataframe which show the calculated value   \n",
    "print (data)"
   ]
  }
 ],
 "metadata": {
  "kernelspec": {
   "display_name": "Python 3",
   "language": "python",
   "name": "python3"
  },
  "language_info": {
   "codemirror_mode": {
    "name": "ipython",
    "version": 3
   },
   "file_extension": ".py",
   "mimetype": "text/x-python",
   "name": "python",
   "nbconvert_exporter": "python",
   "pygments_lexer": "ipython3",
   "version": "3.7.6"
  }
 },
 "nbformat": 4,
 "nbformat_minor": 2
}
