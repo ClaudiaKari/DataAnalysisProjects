{
 "cells": [
  {
   "cell_type": "code",
   "execution_count": 2,
   "metadata": {},
   "outputs": [],
   "source": [
    "'''\n",
    "    Simple Eliza Application\n",
    "    \n",
    "    You will be creating an interactive chat-bot type program. Eliza is a therapist program that interacts with \n",
    "    the user. Your program will need to evaluate what the user\n",
    "    asks and turn the user's input into a question that sounds like the therapist really cares.\n",
    "    Your first task is to develop a program with a running loop.\n",
    "    If the user types in \"I am feeling great\" or enter \"Q\", the program will stop running.\n",
    "    Your program should print out the last input (as an output) every time before accepting new input.\n",
    "    Make sure you are accommodating for NO case-sensitivity. (Q is the same as q)\n",
    "'''"
   ]
  },
  {
   "cell_type": "code",
   "execution_count": 10,
   "metadata": {},
   "outputs": [
    {
     "name": "stdout",
     "output_type": "stream",
     "text": [
      "Good day. What is your problem? Enter your response here or Q to quit: \n",
      "I am feeling bad\n",
      "you said: I am feeling bad\n",
      "\n",
      "Enter your response here or press Q to quit: \n",
      "I am not ok\n",
      "you said: I am not ok\n",
      "\n",
      "Enter your response here or press Q to quit: \n",
      "bad\n",
      "you said: bad\n",
      "\n",
      "Enter your response here or press Q to quit: \n",
      "q\n"
     ]
    }
   ],
   "source": [
    "print('Good day. What is your problem? Enter your response here or Q to quit: ')\n",
    "message= input()\n",
    "\n",
    "while not (message.lower() == 'q' or message == 'I am well'):\n",
    "    print('you said: ' + message)\n",
    "    print('\\nEnter your response here or press Q to quit: ')\n",
    "    message= input()\n",
    "    \n",
    "    "
   ]
  },
  {
   "cell_type": "code",
   "execution_count": null,
   "metadata": {},
   "outputs": [],
   "source": []
  }
 ],
 "metadata": {
  "kernelspec": {
   "display_name": "Python 3",
   "language": "python",
   "name": "python3"
  },
  "language_info": {
   "codemirror_mode": {
    "name": "ipython",
    "version": 3
   },
   "file_extension": ".py",
   "mimetype": "text/x-python",
   "name": "python",
   "nbconvert_exporter": "python",
   "pygments_lexer": "ipython3",
   "version": "3.7.6"
  }
 },
 "nbformat": 4,
 "nbformat_minor": 2
}
