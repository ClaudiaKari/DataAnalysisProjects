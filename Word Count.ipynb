{
 "cells": [
  {
   "cell_type": "code",
   "execution_count": 1,
   "metadata": {},
   "outputs": [],
   "source": [
    "# https://www.geeksforgeeks.org/python-program-to-count-words-in-a-sentence/"
   ]
  },
  {
   "cell_type": "code",
   "execution_count": 1,
   "metadata": {},
   "outputs": [],
   "source": [
    "stringIn = \"\"\"\n",
    " CerTaiN kING HaD a bEaUtIFul gaRDEn, ANd IN THe GarDen StooD A trEe\n",
    "whICH bORe GoLDeN ApPlEs. THesE aPples WerE alwAyS CoUntEd, aNd abOuT\n",
    "tHE TiMe WheN tHEY BEgAn tO grow RipE IT wAs foUND THat EVeRY NIgHT ONE\n",
    "OF THeM Was gOne. thE kiNg bECAMe veRy ANGRy at thiS, aND ORDEred the\n",
    "GarDEneR TO KEeP WAtch ALL NIgHT uNDER the tREE. tHE gardener sEt hIs\n",
    "ELdEsT SoN to WATCH; buT ABout TweLve O’clOCK He fELL ASlEEp, And in\n",
    "the morNIng aNOTheR Of thE aPPLes Was mIssinG. tHEn THE sECONd Son waS\n",
    "oRdERED to waTch; aNd AT mIDniGhT he tOO FELl ASleEP, aND iN thE mOrNIng\n",
    "ANoThER AppLE WaS gOne . TheN THe thIrd Son oFfeREd tO KeEp wATCh; buT\n",
    "thE garDENer At First WoULd NoT LET Him, FOr fEaR sOMe HArM ShOuLD cOME\n",
    "To hIM: hoWeveR, at lAST hE coNSEnteD, AND tHE YouNg MAN laID HimSELf\n",
    "uNDER tHE tREe TO wAtch. AS tHE clocK STRuCk tweLvE He Heard A rustlinG\n",
    "NoISe IN ThE aIr, And a biRd CAME FlYing ThAt was Of PUre gOLd; AND as\n",
    "IT WAs SNApPING At onE oF ThE aPpleS wIth iTS BeaK, tHE GArDEner’S son\n",
    "jUMpED UP And SHOT AN aRrOw at iT. But THE arrOw DID thE BiRD nO HaRm;\n",
    "ONlY iT dRoPPEd a GoLDEn FEather FROM iTS tAiL, aND THEN FLEw AwaY.\n",
    "the gOLdEN FEAthER WAS bRoUght to THe KinG IN THE MOrNING, AnD aLL ThE\n",
    "cOunCil WAs called TogETHER. EVERYoNE aGREed ThAt it wAS wORth MoRe THAn\n",
    "aLl The weAltH Of tHE kIngDOm: But THE KiNg sAID, ‘One FeatHeR Is Of NO\n",
    "use tO me, I MusT HaVE ThE wHOLE BIRD \n",
    "\"\"\"\n"
   ]
  },
  {
   "cell_type": "code",
   "execution_count": 2,
   "metadata": {},
   "outputs": [
    {
     "name": "stdout",
     "output_type": "stream",
     "text": [
      "['CerTaiN', 'kING', 'HaD', 'a', 'bEaUtIFul', 'gaRDEn,', 'ANd', 'IN', 'THe', 'GarDen', 'StooD', 'A', 'trEe', 'whICH', 'bORe', 'GoLDeN', 'ApPlEs.', 'THesE', 'aPples', 'WerE', 'alwAyS', 'CoUntEd,', 'aNd', 'abOuT', 'tHE', 'TiMe', 'WheN', 'tHEY', 'BEgAn', 'tO', 'grow', 'RipE', 'IT', 'wAs', 'foUND', 'THat', 'EVeRY', 'NIgHT', 'ONE', 'OF', 'THeM', 'Was', 'gOne.', 'thE', 'kiNg', 'bECAMe', 'veRy', 'ANGRy', 'at', 'thiS,', 'aND', 'ORDEred', 'the', 'GarDEneR', 'TO', 'KEeP', 'WAtch', 'ALL', 'NIgHT', 'uNDER', 'the', 'tREE.', 'tHE', 'gardener', 'sEt', 'hIs', 'ELdEsT', 'SoN', 'to', 'WATCH;', 'buT', 'ABout', 'TweLve', 'O’clOCK', 'He', 'fELL', 'ASlEEp,', 'And', 'in', 'the', 'morNIng', 'aNOTheR', 'Of', 'thE', 'aPPLes', 'Was', 'mIssinG.', 'tHEn', 'THE', 'sECONd', 'Son', 'waS', 'oRdERED', 'to', 'waTch;', 'aNd', 'AT', 'mIDniGhT', 'he', 'tOO', 'FELl', 'ASleEP,', 'aND', 'iN', 'thE', 'mOrNIng', 'ANoThER', 'AppLE', 'WaS', 'gOne', '.', 'TheN', 'THe', 'thIrd', 'Son', 'oFfeREd', 'tO', 'KeEp', 'wATCh;', 'buT', 'thE', 'garDENer', 'At', 'First', 'WoULd', 'NoT', 'LET', 'Him,', 'FOr', 'fEaR', 'sOMe', 'HArM', 'ShOuLD', 'cOME', 'To', 'hIM:', 'hoWeveR,', 'at', 'lAST', 'hE', 'coNSEnteD,', 'AND', 'tHE', 'YouNg', 'MAN', 'laID', 'HimSELf', 'uNDER', 'tHE', 'tREe', 'TO', 'wAtch.', 'AS', 'tHE', 'clocK', 'STRuCk', 'tweLvE', 'He', 'Heard', 'A', 'rustlinG', 'NoISe', 'IN', 'ThE', 'aIr,', 'And', 'a', 'biRd', 'CAME', 'FlYing', 'ThAt', 'was', 'Of', 'PUre', 'gOLd;', 'AND', 'as', 'IT', 'WAs', 'SNApPING', 'At', 'onE', 'oF', 'ThE', 'aPpleS', 'wIth', 'iTS', 'BeaK,', 'tHE', 'GArDEner’S', 'son', 'jUMpED', 'UP', 'And', 'SHOT', 'AN', 'aRrOw', 'at', 'iT.', 'But', 'THE', 'arrOw', 'DID', 'thE', 'BiRD', 'nO', 'HaRm;', 'ONlY', 'iT', 'dRoPPEd', 'a', 'GoLDEn', 'FEather', 'FROM', 'iTS', 'tAiL,', 'aND', 'THEN', 'FLEw', 'AwaY.', 'the', 'gOLdEN', 'FEAthER', 'WAS', 'bRoUght', 'to', 'THe', 'KinG', 'IN', 'THE', 'MOrNING,', 'AnD', 'aLL', 'ThE', 'cOunCil', 'WAs', 'called', 'TogETHER.', 'EVERYoNE', 'aGREed', 'ThAt', 'it', 'wAS', 'wORth', 'MoRe', 'THAn', 'aLl', 'The', 'weAltH', 'Of', 'tHE', 'kIngDOm:', 'But', 'THE', 'KiNg', 'sAID,', '‘One', 'FeatHeR', 'Is', 'Of', 'NO', 'use', 'tO', 'me,', 'I', 'MusT', 'HaVE', 'ThE', 'wHOLE', 'BIRD']\n"
     ]
    }
   ],
   "source": [
    "print(stringIn.split())"
   ]
  },
  {
   "cell_type": "code",
   "execution_count": 13,
   "metadata": {},
   "outputs": [
    {
     "data": {
      "text/plain": [
       "270"
      ]
     },
     "execution_count": 13,
     "metadata": {},
     "output_type": "execute_result"
    }
   ],
   "source": [
    "len(stringIn.split())\n"
   ]
  },
  {
   "cell_type": "code",
   "execution_count": 11,
   "metadata": {},
   "outputs": [],
   "source": [
    "res = len(stringIn.split()) "
   ]
  },
  {
   "cell_type": "code",
   "execution_count": 3,
   "metadata": {},
   "outputs": [
    {
     "name": "stdout",
     "output_type": "stream",
     "text": [
      "270\n"
     ]
    }
   ],
   "source": [
    "print(res)"
   ]
  },
  {
   "cell_type": "code",
   "execution_count": null,
   "metadata": {},
   "outputs": [],
   "source": []
  }
 ],
 "metadata": {
  "kernelspec": {
   "display_name": "Python 3",
   "language": "python",
   "name": "python3"
  },
  "language_info": {
   "codemirror_mode": {
    "name": "ipython",
    "version": 3
   },
   "file_extension": ".py",
   "mimetype": "text/x-python",
   "name": "python",
   "nbconvert_exporter": "python",
   "pygments_lexer": "ipython3",
   "version": "3.7.6"
  }
 },
 "nbformat": 4,
 "nbformat_minor": 2
}
